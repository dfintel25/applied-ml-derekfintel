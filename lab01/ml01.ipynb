{
 "cells": [
  {
   "cell_type": "markdown",
   "metadata": {},
   "source": [
    "This is a Markdown cell. Change the word \"Example\" in the title to your name or alias. Customize your work and develop your own professional communication 'branding' for your projects. \n",
    "\n",
    "# Example California Housing Price Prediction\n",
    "**Author:** Your Name  \n",
    "**Date:** Month, Day, Year  \n",
    "**Objective:** Predict the median house price in California using available housing features.\n"
   ]
  },
  {
   "cell_type": "markdown",
   "metadata": {},
   "source": [
    "This is a Markdown cell.\n",
    "\n",
    "## Introduction\n",
    "This project uses the California housing dataset to predict house prices based on features such as median income, average number of rooms, and house age. We'll clean the data, train a linear regression model, and explore ways to improve performance."
   ]
  },
  {
   "cell_type": "markdown",
   "metadata": {},
   "source": [
    "This is a Markdown cell.\n",
    "\n",
    "## Imports\n",
    "In the code cell below, import the necessary Python libraries for this notebook.  "
   ]
  },
  {
   "cell_type": "code",
   "execution_count": null,
   "metadata": {},
   "outputs": [
    {
     "ename": "ImportError",
     "evalue": "DLL load failed while importing _common: An Application Control policy has blocked this file.",
     "output_type": "error",
     "traceback": [
      "\u001b[31m---------------------------------------------------------------------------\u001b[39m",
      "\u001b[31mImportError\u001b[39m                               Traceback (most recent call last)",
      "\u001b[36mCell\u001b[39m\u001b[36m \u001b[39m\u001b[32mIn[1]\u001b[39m\u001b[32m, line 6\u001b[39m\n\u001b[32m      1\u001b[39m \u001b[38;5;66;03m# This is a Python cell\u001b[39;00m\n\u001b[32m      2\u001b[39m \u001b[38;5;66;03m# All imports should be at the top of the notebook\u001b[39;00m\n\u001b[32m      3\u001b[39m \u001b[38;5;66;03m# This cell will be executed when the notebook is loaded\u001b[39;00m\n\u001b[32m      4\u001b[39m \n\u001b[32m      5\u001b[39m \u001b[38;5;66;03m# Import pandas for data manipulation and analysis (we might want to do more with it)\u001b[39;00m\n\u001b[32m----> \u001b[39m\u001b[32m6\u001b[39m \u001b[38;5;28;01mimport\u001b[39;00m\u001b[38;5;250m \u001b[39m\u001b[34;01mpandas\u001b[39;00m\u001b[38;5;250m \u001b[39m\u001b[38;5;28;01mas\u001b[39;00m\u001b[38;5;250m \u001b[39m\u001b[34;01mpd\u001b[39;00m\n\u001b[32m      8\u001b[39m \u001b[38;5;66;03m# Import pandas for data manipulation and analysis  (we might want to do more with it)\u001b[39;00m\n\u001b[32m      9\u001b[39m \u001b[38;5;28;01mimport\u001b[39;00m\u001b[38;5;250m \u001b[39m\u001b[34;01mnumpy\u001b[39;00m\u001b[38;5;250m \u001b[39m\u001b[38;5;28;01mas\u001b[39;00m\u001b[38;5;250m \u001b[39m\u001b[34;01mnp\u001b[39;00m\n",
      "\u001b[36mFile \u001b[39m\u001b[32mc:\\Projects\\applied-ml-derekfintel\\.venv\\Lib\\site-packages\\pandas\\__init__.py:50\u001b[39m\n\u001b[32m     43\u001b[39m     _module = _err.name\n\u001b[32m     44\u001b[39m     \u001b[38;5;28;01mraise\u001b[39;00m \u001b[38;5;167;01mImportError\u001b[39;00m(\n\u001b[32m     45\u001b[39m         \u001b[33mf\u001b[39m\u001b[33m\"\u001b[39m\u001b[33mC extension: \u001b[39m\u001b[38;5;132;01m{\u001b[39;00m_module\u001b[38;5;132;01m}\u001b[39;00m\u001b[33m not built. If you want to import \u001b[39m\u001b[33m\"\u001b[39m\n\u001b[32m     46\u001b[39m         \u001b[33m\"\u001b[39m\u001b[33mpandas from the source directory, you may need to run \u001b[39m\u001b[33m\"\u001b[39m\n\u001b[32m     47\u001b[39m         \u001b[33m\"\u001b[39m\u001b[33m'\u001b[39m\u001b[33mpython setup.py build_ext\u001b[39m\u001b[33m'\u001b[39m\u001b[33m to build the C extensions first.\u001b[39m\u001b[33m\"\u001b[39m\n\u001b[32m     48\u001b[39m     ) \u001b[38;5;28;01mfrom\u001b[39;00m\u001b[38;5;250m \u001b[39m\u001b[34;01m_err\u001b[39;00m\n\u001b[32m---> \u001b[39m\u001b[32m50\u001b[39m \u001b[38;5;28;01mfrom\u001b[39;00m\u001b[38;5;250m \u001b[39m\u001b[34;01mpandas\u001b[39;00m\u001b[34;01m.\u001b[39;00m\u001b[34;01m_config\u001b[39;00m\u001b[38;5;250m \u001b[39m\u001b[38;5;28;01mimport\u001b[39;00m (\n\u001b[32m     51\u001b[39m     get_option,\n\u001b[32m     52\u001b[39m     set_option,\n\u001b[32m     53\u001b[39m     reset_option,\n\u001b[32m     54\u001b[39m     describe_option,\n\u001b[32m     55\u001b[39m     option_context,\n\u001b[32m     56\u001b[39m     options,\n\u001b[32m     57\u001b[39m )\n\u001b[32m     59\u001b[39m \u001b[38;5;66;03m# let init-time option registration happen\u001b[39;00m\n\u001b[32m     60\u001b[39m \u001b[38;5;28;01mimport\u001b[39;00m\u001b[38;5;250m \u001b[39m\u001b[34;01mpandas\u001b[39;00m\u001b[34;01m.\u001b[39;00m\u001b[34;01mcore\u001b[39;00m\u001b[34;01m.\u001b[39;00m\u001b[34;01mconfig_init\u001b[39;00m  \u001b[38;5;66;03m# pyright: ignore[reportUnusedImport] # noqa: F401\u001b[39;00m\n",
      "\u001b[36mFile \u001b[39m\u001b[32mc:\\Projects\\applied-ml-derekfintel\\.venv\\Lib\\site-packages\\pandas\\_config\\__init__.py:20\u001b[39m\n\u001b[32m      1\u001b[39m \u001b[33;03m\"\"\"\u001b[39;00m\n\u001b[32m      2\u001b[39m \u001b[33;03mpandas._config is considered explicitly upstream of everything else in pandas,\u001b[39;00m\n\u001b[32m      3\u001b[39m \u001b[33;03mshould have no intra-pandas dependencies.\u001b[39;00m\n\u001b[32m   (...)\u001b[39m\u001b[32m      6\u001b[39m \u001b[33;03mare initialized.\u001b[39;00m\n\u001b[32m      7\u001b[39m \u001b[33;03m\"\"\"\u001b[39;00m\n\u001b[32m      8\u001b[39m __all__ = [\n\u001b[32m      9\u001b[39m     \u001b[33m\"\u001b[39m\u001b[33mconfig\u001b[39m\u001b[33m\"\u001b[39m,\n\u001b[32m     10\u001b[39m     \u001b[33m\"\u001b[39m\u001b[33mdetect_console_encoding\u001b[39m\u001b[33m\"\u001b[39m,\n\u001b[32m   (...)\u001b[39m\u001b[32m     18\u001b[39m     \u001b[33m\"\u001b[39m\u001b[33mwarn_copy_on_write\u001b[39m\u001b[33m\"\u001b[39m,\n\u001b[32m     19\u001b[39m ]\n\u001b[32m---> \u001b[39m\u001b[32m20\u001b[39m \u001b[38;5;28;01mfrom\u001b[39;00m\u001b[38;5;250m \u001b[39m\u001b[34;01mpandas\u001b[39;00m\u001b[34;01m.\u001b[39;00m\u001b[34;01m_config\u001b[39;00m\u001b[38;5;250m \u001b[39m\u001b[38;5;28;01mimport\u001b[39;00m config\n\u001b[32m     21\u001b[39m \u001b[38;5;28;01mfrom\u001b[39;00m\u001b[38;5;250m \u001b[39m\u001b[34;01mpandas\u001b[39;00m\u001b[34;01m.\u001b[39;00m\u001b[34;01m_config\u001b[39;00m\u001b[38;5;250m \u001b[39m\u001b[38;5;28;01mimport\u001b[39;00m dates  \u001b[38;5;66;03m# pyright: ignore[reportUnusedImport]  # noqa: F401\u001b[39;00m\n\u001b[32m     22\u001b[39m \u001b[38;5;28;01mfrom\u001b[39;00m\u001b[38;5;250m \u001b[39m\u001b[34;01mpandas\u001b[39;00m\u001b[34;01m.\u001b[39;00m\u001b[34;01m_config\u001b[39;00m\u001b[34;01m.\u001b[39;00m\u001b[34;01mconfig\u001b[39;00m\u001b[38;5;250m \u001b[39m\u001b[38;5;28;01mimport\u001b[39;00m (\n\u001b[32m     23\u001b[39m     _global_config,\n\u001b[32m     24\u001b[39m     describe_option,\n\u001b[32m   (...)\u001b[39m\u001b[32m     29\u001b[39m     set_option,\n\u001b[32m     30\u001b[39m )\n",
      "\u001b[36mFile \u001b[39m\u001b[32mc:\\Projects\\applied-ml-derekfintel\\.venv\\Lib\\site-packages\\pandas\\_config\\config.py:68\u001b[39m\n\u001b[32m     58\u001b[39m \u001b[38;5;28;01mfrom\u001b[39;00m\u001b[38;5;250m \u001b[39m\u001b[34;01mtyping\u001b[39;00m\u001b[38;5;250m \u001b[39m\u001b[38;5;28;01mimport\u001b[39;00m (\n\u001b[32m     59\u001b[39m     TYPE_CHECKING,\n\u001b[32m     60\u001b[39m     Any,\n\u001b[32m   (...)\u001b[39m\u001b[32m     64\u001b[39m     cast,\n\u001b[32m     65\u001b[39m )\n\u001b[32m     66\u001b[39m \u001b[38;5;28;01mimport\u001b[39;00m\u001b[38;5;250m \u001b[39m\u001b[34;01mwarnings\u001b[39;00m\n\u001b[32m---> \u001b[39m\u001b[32m68\u001b[39m \u001b[38;5;28;01mfrom\u001b[39;00m\u001b[38;5;250m \u001b[39m\u001b[34;01mpandas\u001b[39;00m\u001b[34;01m.\u001b[39;00m\u001b[34;01m_typing\u001b[39;00m\u001b[38;5;250m \u001b[39m\u001b[38;5;28;01mimport\u001b[39;00m (\n\u001b[32m     69\u001b[39m     F,\n\u001b[32m     70\u001b[39m     T,\n\u001b[32m     71\u001b[39m )\n\u001b[32m     72\u001b[39m \u001b[38;5;28;01mfrom\u001b[39;00m\u001b[38;5;250m \u001b[39m\u001b[34;01mpandas\u001b[39;00m\u001b[34;01m.\u001b[39;00m\u001b[34;01mutil\u001b[39;00m\u001b[34;01m.\u001b[39;00m\u001b[34;01m_exceptions\u001b[39;00m\u001b[38;5;250m \u001b[39m\u001b[38;5;28;01mimport\u001b[39;00m find_stack_level\n\u001b[32m     74\u001b[39m \u001b[38;5;28;01mif\u001b[39;00m TYPE_CHECKING:\n",
      "\u001b[36mFile \u001b[39m\u001b[32mc:\\Projects\\applied-ml-derekfintel\\.venv\\Lib\\site-packages\\pandas\\_typing.py:198\u001b[39m\n\u001b[32m    192\u001b[39m Frequency = Union[\u001b[38;5;28mstr\u001b[39m, \u001b[33m\"\u001b[39m\u001b[33mBaseOffset\u001b[39m\u001b[33m\"\u001b[39m]\n\u001b[32m    193\u001b[39m Axes = ListLike\n\u001b[32m    195\u001b[39m RandomState = Union[\n\u001b[32m    196\u001b[39m     \u001b[38;5;28mint\u001b[39m,\n\u001b[32m    197\u001b[39m     np.ndarray,\n\u001b[32m--> \u001b[39m\u001b[32m198\u001b[39m     \u001b[43mnp\u001b[49m\u001b[43m.\u001b[49m\u001b[43mrandom\u001b[49m.Generator,\n\u001b[32m    199\u001b[39m     np.random.BitGenerator,\n\u001b[32m    200\u001b[39m     np.random.RandomState,\n\u001b[32m    201\u001b[39m ]\n\u001b[32m    203\u001b[39m \u001b[38;5;66;03m# dtypes\u001b[39;00m\n\u001b[32m    204\u001b[39m NpDtype = Union[\u001b[38;5;28mstr\u001b[39m, np.dtype, type_t[Union[\u001b[38;5;28mstr\u001b[39m, \u001b[38;5;28mcomplex\u001b[39m, \u001b[38;5;28mbool\u001b[39m, \u001b[38;5;28mobject\u001b[39m]]]\n",
      "\u001b[36mFile \u001b[39m\u001b[32mc:\\Projects\\applied-ml-derekfintel\\.venv\\Lib\\site-packages\\numpy\\__init__.py:353\u001b[39m, in \u001b[36m__getattr__\u001b[39m\u001b[34m(attr)\u001b[39m\n\u001b[32m    351\u001b[39m     \u001b[38;5;28;01mreturn\u001b[39;00m dtypes\n\u001b[32m    352\u001b[39m \u001b[38;5;28;01melif\u001b[39;00m attr == \u001b[33m\"\u001b[39m\u001b[33mrandom\u001b[39m\u001b[33m\"\u001b[39m:\n\u001b[32m--> \u001b[39m\u001b[32m353\u001b[39m     \u001b[38;5;28;01mimport\u001b[39;00m\u001b[38;5;250m \u001b[39m\u001b[34;01mnumpy\u001b[39;00m\u001b[34;01m.\u001b[39;00m\u001b[34;01mrandom\u001b[39;00m\u001b[38;5;250m \u001b[39m\u001b[38;5;28;01mas\u001b[39;00m\u001b[38;5;250m \u001b[39m\u001b[34;01mrandom\u001b[39;00m\n\u001b[32m    354\u001b[39m     \u001b[38;5;28;01mreturn\u001b[39;00m random\n\u001b[32m    355\u001b[39m \u001b[38;5;28;01melif\u001b[39;00m attr == \u001b[33m\"\u001b[39m\u001b[33mpolynomial\u001b[39m\u001b[33m\"\u001b[39m:\n",
      "\u001b[36mFile \u001b[39m\u001b[32mc:\\Projects\\applied-ml-derekfintel\\.venv\\Lib\\site-packages\\numpy\\random\\__init__.py:180\u001b[39m\n\u001b[32m    126\u001b[39m __all__ = [\n\u001b[32m    127\u001b[39m     \u001b[33m'\u001b[39m\u001b[33mbeta\u001b[39m\u001b[33m'\u001b[39m,\n\u001b[32m    128\u001b[39m     \u001b[33m'\u001b[39m\u001b[33mbinomial\u001b[39m\u001b[33m'\u001b[39m,\n\u001b[32m   (...)\u001b[39m\u001b[32m    176\u001b[39m     \u001b[33m'\u001b[39m\u001b[33mzipf\u001b[39m\u001b[33m'\u001b[39m,\n\u001b[32m    177\u001b[39m ]\n\u001b[32m    179\u001b[39m \u001b[38;5;66;03m# add these for module-freeze analysis (like PyInstaller)\u001b[39;00m\n\u001b[32m--> \u001b[39m\u001b[32m180\u001b[39m \u001b[38;5;28;01mfrom\u001b[39;00m\u001b[38;5;250m \u001b[39m\u001b[34;01m.\u001b[39;00m\u001b[38;5;250m \u001b[39m\u001b[38;5;28;01mimport\u001b[39;00m _pickle\n\u001b[32m    181\u001b[39m \u001b[38;5;28;01mfrom\u001b[39;00m\u001b[38;5;250m \u001b[39m\u001b[34;01m.\u001b[39;00m\u001b[38;5;250m \u001b[39m\u001b[38;5;28;01mimport\u001b[39;00m _common\n\u001b[32m    182\u001b[39m \u001b[38;5;28;01mfrom\u001b[39;00m\u001b[38;5;250m \u001b[39m\u001b[34;01m.\u001b[39;00m\u001b[38;5;250m \u001b[39m\u001b[38;5;28;01mimport\u001b[39;00m _bounded_integers\n",
      "\u001b[36mFile \u001b[39m\u001b[32mc:\\Projects\\applied-ml-derekfintel\\.venv\\Lib\\site-packages\\numpy\\random\\_pickle.py:1\u001b[39m\n\u001b[32m----> \u001b[39m\u001b[32m1\u001b[39m \u001b[38;5;28;01mfrom\u001b[39;00m\u001b[38;5;250m \u001b[39m\u001b[34;01m.\u001b[39;00m\u001b[34;01mbit_generator\u001b[39;00m\u001b[38;5;250m \u001b[39m\u001b[38;5;28;01mimport\u001b[39;00m BitGenerator\n\u001b[32m      2\u001b[39m \u001b[38;5;28;01mfrom\u001b[39;00m\u001b[38;5;250m \u001b[39m\u001b[34;01m.\u001b[39;00m\u001b[34;01mmtrand\u001b[39;00m\u001b[38;5;250m \u001b[39m\u001b[38;5;28;01mimport\u001b[39;00m RandomState\n\u001b[32m      3\u001b[39m \u001b[38;5;28;01mfrom\u001b[39;00m\u001b[38;5;250m \u001b[39m\u001b[34;01m.\u001b[39;00m\u001b[34;01m_philox\u001b[39;00m\u001b[38;5;250m \u001b[39m\u001b[38;5;28;01mimport\u001b[39;00m Philox\n",
      "\u001b[36mFile \u001b[39m\u001b[32mbit_generator.pyx:1\u001b[39m, in \u001b[36minit numpy.random.bit_generator\u001b[39m\u001b[34m()\u001b[39m\n",
      "\u001b[31mImportError\u001b[39m: DLL load failed while importing _common: An Application Control policy has blocked this file."
     ]
    }
   ],
   "source": [
    "\n",
    "# This is a Python cell\n",
    "# All imports should be at the top of the notebook\n",
    "# This cell will be executed when the notebook is loaded\n",
    "\n",
    "# Import pandas for data manipulation and analysis (we might want to do more with it)\n",
    "import pandas as pd\n",
    "\n",
    "# Import pandas for data manipulation and analysis  (we might want to do more with it)\n",
    "import numpy as np\n",
    "\n",
    "# Import matplotlib for creating static visualizations\n",
    "import matplotlib.pyplot as plt\n",
    "\n",
    "# Import seaborn for statistical data visualization (built on matplotlib)\n",
    "import seaborn as sns\n",
    "\n",
    "# Import the California housing dataset from sklearn\n",
    "from sklearn.datasets import fetch_california_housing\n",
    "\n",
    "# Import train_test_split for splitting data into training and test sets\n",
    "from sklearn.model_selection import train_test_split\n",
    "\n",
    "# Import LinearRegression for building a linear regression model\n",
    "from sklearn.linear_model import LinearRegression\n",
    "\n",
    "# Import performance metrics for model evaluation\n",
    "from sklearn.metrics import root_mean_squared_error, mean_absolute_error, r2_score"
   ]
  },
  {
   "cell_type": "markdown",
   "metadata": {},
   "source": [
    "This is a Markdown cell\n",
    "\n",
    "## Section 1. Load and Explore the Data\n",
    "\n",
    "### 1.1 Load the dataset and display the first 10 rows\n",
    "Load the California housing dataset directly from `scikit-learn`.\n",
    "- The `fetch_california_housing` function returns a dictionary-like object with the data.\n",
    "- Convert it into a pandas DataFrame.\n",
    "- Display just the first 10 rows using `head()`.\n",
    "\n",
    "Example code:\n",
    "\n",
    "data = fetch_california_housing(as_frame=True)\n",
    "data_frame = data.frame\n",
    "\n",
    "data_frame.head(10)"
   ]
  },
  {
   "cell_type": "code",
   "execution_count": 1,
   "metadata": {},
   "outputs": [
    {
     "ename": "NameError",
     "evalue": "name 'fetch_california_housing' is not defined",
     "output_type": "error",
     "traceback": [
      "\u001b[31m---------------------------------------------------------------------------\u001b[39m",
      "\u001b[31mNameError\u001b[39m                                 Traceback (most recent call last)",
      "\u001b[36mCell\u001b[39m\u001b[36m \u001b[39m\u001b[32mIn[1]\u001b[39m\u001b[32m, line 8\u001b[39m\n\u001b[32m      1\u001b[39m \u001b[38;5;66;03m# This is a Python cell. \u001b[39;00m\n\u001b[32m      2\u001b[39m \u001b[38;5;66;03m# Put your comments and code here. \u001b[39;00m\n\u001b[32m      3\u001b[39m \u001b[38;5;66;03m# Read the Markdown cell above for information and example code. \u001b[39;00m\n\u001b[32m   (...)\u001b[39m\u001b[32m      6\u001b[39m \n\u001b[32m      7\u001b[39m \u001b[38;5;66;03m# Load the data\u001b[39;00m\n\u001b[32m----> \u001b[39m\u001b[32m8\u001b[39m data = \u001b[43mfetch_california_housing\u001b[49m(as_frame=\u001b[38;5;28;01mTrue\u001b[39;00m)\n\u001b[32m      9\u001b[39m data_frame = data.frame\n\u001b[32m     11\u001b[39m \u001b[38;5;66;03m# Might be large. Display just the first 10 rows (you can change this number)\u001b[39;00m\n",
      "\u001b[31mNameError\u001b[39m: name 'fetch_california_housing' is not defined"
     ]
    }
   ],
   "source": [
    "# This is a Python cell. \n",
    "# Put your comments and code here. \n",
    "# Read the Markdown cell above for information and example code. \n",
    "#\n",
    "# For example:\n",
    "\n",
    "# Load the data\n",
    "data = fetch_california_housing(as_frame=True)\n",
    "data_frame = data.frame\n",
    "\n",
    "# Might be large. Display just the first 10 rows (you can change this number)\n",
    "data_frame.head(10)\n"
   ]
  },
  {
   "cell_type": "markdown",
   "metadata": {},
   "source": [
    "This is a Markdown cell.\n",
    "\n",
    "### 1.2 Check for missing values and display summary statistics\n",
    "\n",
    "In the cell below:\n",
    "1. Use `info()` to check data types and missing values.\n",
    "2. Use `describe()` to see summary statistics.\n",
    "3. Use `isnull().sum()` to identify missing values in each column.\n",
    "\n",
    "Example code:\n",
    "\n",
    "data_frame.info()\n",
    "\n",
    "data_frame.describe()\n",
    "\n",
    "data_frame.isnull().sum()"
   ]
  },
  {
   "cell_type": "code",
   "execution_count": null,
   "metadata": {},
   "outputs": [],
   "source": [
    "# This is a Python cell. \n",
    "# Put your comments and code here.\n",
    "# Read the Markdown cell above for information and example code. \n",
    "\n"
   ]
  },
  {
   "cell_type": "markdown",
   "id": "9c001a63",
   "metadata": {},
   "source": [
    "This is a Markdown cell\n",
    "\n",
    "\n",
    "Analysis: \n",
    "\n",
    "1) How many data instances (also called data records or data rows) are there?\n",
    "\n",
    "2) How many features (also columns or attributes) are there?\n",
    "\n",
    "3) What are the names of the features? (\"Feature\" is used most often in ML projects.)\n",
    "\n",
    "4) Which features are numeric?\n",
    "\n",
    "5) Which features are categorical (non-numeric)?\n",
    "\n",
    "6) Are there any missing values? How should they be handled? Should we delete a sparsely populated column? Delete an incomplete data row? Substitute with a different value?\n",
    "\n",
    "7) What else do you notice about the dataset? Are there any data issues?"
   ]
  },
  {
   "cell_type": "markdown",
   "metadata": {},
   "source": [
    "## Section 2. Visualize Feature Distributions\n",
    "### 2.1 Create histograms, boxplots, and scatterplots\n",
    "\n",
    "- Create histograms for all numeric features using `data_frame.hist()` with 30 bins.\n",
    "- Create a boxenplots using `sns.boxenplot()`.\n",
    "- Create scatter plots using `sns.pairplot()`.\n",
    "\n",
    "First, histograms\n",
    "\n",
    "Generate histograms for all numerical columns\n",
    "\n",
    "Example code:\n",
    "\n",
    "data_frame.hist(bins=30, figsize=(12, 8))\n",
    "\n",
    "plt.show()"
   ]
  },
  {
   "cell_type": "code",
   "execution_count": null,
   "metadata": {},
   "outputs": [],
   "source": [
    "\n",
    "# This is a Python cell. \n",
    "# Put your comments and code here.\n",
    "\n",
    "\n"
   ]
  },
  {
   "cell_type": "markdown",
   "id": "b3c4a38b",
   "metadata": {},
   "source": [
    "Generate one Boxenplot for each column (good for large datasets)\n",
    "\n",
    "Example code:\n",
    "\n",
    "for column in data_frame.columns:\n",
    "    plt.figure(figsize=(6, 4))\n",
    "    sns.boxenplot(data=data_frame[column])\n",
    "    plt.title(f'Boxenplot for {column}')\n",
    "    plt.show()"
   ]
  },
  {
   "cell_type": "code",
   "execution_count": null,
   "id": "c36e5d73",
   "metadata": {},
   "outputs": [],
   "source": []
  },
  {
   "cell_type": "code",
   "execution_count": null,
   "id": "d9f0158e",
   "metadata": {},
   "outputs": [],
   "source": [
    "# This is a Python cell. \n",
    "# Put your comments and code here.\n"
   ]
  },
  {
   "cell_type": "markdown",
   "id": "4ad19958",
   "metadata": {},
   "source": [
    "Third - Scatter Plots\n",
    "\n",
    "Generate all Scatter plots (there is a LOT of data, so this will take a while)\n",
    "\n",
    "Comment out after analysis to speed up the notebook.\n",
    "\n",
    "Example code:\n",
    "\n",
    "sns.pairplot(data_frame)\n",
    "\n",
    "plt.show()"
   ]
  },
  {
   "cell_type": "code",
   "execution_count": null,
   "id": "014c64c9",
   "metadata": {},
   "outputs": [],
   "source": [
    "# This is a Python cell. \n",
    "# Put your comments and code here.\n",
    "\n"
   ]
  },
  {
   "cell_type": "markdown",
   "metadata": {},
   "source": [
    "This is a Markdown Cell.\n",
    "\n",
    "## Section 3. Feature Selection and Justification\n",
    "### 3.1 Choose two input features for predicting the target\n",
    "\n",
    "- Select `MedInc` and `AveRooms` as predictors.\n",
    "- Select `MedHouseVal` as the target variable.\n",
    "\n",
    "In the following, \n",
    "X is capitalized because it represents a matrix (consistent with mathematical notation).\n",
    "y is lowercase because it represents a vector (consistent with mathematical notation).\n",
    "\n",
    "\n",
    "First:\n",
    "- Create a list of contributing features and the target variable\n",
    "- Define the target feature string (the variable we want to predict)\n",
    "- Define the input DataFrame\n",
    "- Define the output DataFrame\n",
    "\n",
    "\n",
    "Example code:\n",
    "\n",
    "features: list = ['MedInc', 'AveRooms']\n",
    "\n",
    "target: str = 'MedHouseVal'\n",
    "\n",
    "df_X = data_frame[features]\n",
    "\n",
    "df_y = data_frame[target]\n"
   ]
  },
  {
   "cell_type": "code",
   "execution_count": null,
   "metadata": {},
   "outputs": [],
   "source": [
    "# This is a Python cell. \n",
    "# Put your comments and code here.\n",
    "\n"
   ]
  },
  {
   "cell_type": "markdown",
   "metadata": {},
   "source": [
    "This is a Markdown Cell.\n",
    "\n",
    "\n",
    "## Section 4. Train a Linear Regression Model\n",
    "### 4.1 Split the data\n",
    "Split the dataset into training and test sets (80% train / 20% test).\n",
    "\n",
    "Call train_test_split() by passing in: \n",
    "\n",
    "- df_X – Feature matrix (input data) as a pandas DataFrame\n",
    "- y – Target values as a pandas Series\n",
    "- test_size – Fraction of data to use for testing (e.g., 0.1 = 10%)\n",
    "- random_state – Seed value for reproducible splits\n",
    "\n",
    "We'll get back four return values:\n",
    "\n",
    "- X_train – Training set features (DataFrame)\n",
    "- X_test – Test set features (DataFrame)\n",
    "- y_train – Training set target values (Series)\n",
    "- y_test – Test set target values (Series)\n",
    "\n",
    "\n",
    "Example code:\n",
    "\n",
    "X_train, X_test, y_train, y_test = train_test_split(\n",
    "    df_X, df_y, test_size=0.2, random_state=42)\n"
   ]
  },
  {
   "cell_type": "code",
   "execution_count": null,
   "metadata": {},
   "outputs": [],
   "source": [
    "# This is a Python cell. \n",
    "# Put your comments and code here.\n",
    "# \n",
    "\n"
   ]
  },
  {
   "cell_type": "markdown",
   "metadata": {},
   "source": [
    "This is a Markdown Cell.\n",
    "\n",
    "### 4.2 Train the model\n",
    "Create and fit a `LinearRegression` model.\n",
    "\n",
    "LinearRegression – A class from sklearn.linear_model that creates a linear regression model.\n",
    "\n",
    "model – An instance of the LinearRegression model. This object will store the learned coefficients and intercept after training.\n",
    "\n",
    "fit() – Trains the model by finding the best-fit line for the training data using the Ordinary Least Squares (OLS) method.\n",
    "\n",
    "X_train – The input features used to train the model.\n",
    "\n",
    "y_train – The target values used to train the model.\n",
    "\n",
    "\n",
    "Example code:\n",
    "\n",
    "\n",
    "model = LinearRegression()\n",
    "\n",
    "model.fit(X_train, y_train)\n"
   ]
  },
  {
   "cell_type": "code",
   "execution_count": null,
   "metadata": {},
   "outputs": [],
   "source": [
    "# This is a Python cell. \n",
    "# Put your comments and code here.\n",
    "# \n"
   ]
  },
  {
   "cell_type": "markdown",
   "id": "5676c419",
   "metadata": {},
   "source": [
    "This is a Markdown Cell.\n",
    "\n",
    "Make predictions for the test set.\n",
    "\n",
    "The model.predict() method applies this equation to the X test data to compute predicted values.\n",
    "\n",
    "y_pred = model.predict(X_test)\n",
    "\n",
    "y_pred contains all the predicted values for all the rows in X_test based on the linear regression model.\n",
    "\n",
    "\n",
    "Example code:\n",
    "\n",
    "y_pred = model.predict(X_test)\n"
   ]
  },
  {
   "cell_type": "code",
   "execution_count": null,
   "id": "cb721051",
   "metadata": {
    "vscode": {
     "languageId": "markdown"
    }
   },
   "outputs": [],
   "source": [
    "\n",
    "# This is a Python cell. \n",
    "# Put your comments and code here.\n",
    "# "
   ]
  },
  {
   "cell_type": "markdown",
   "metadata": {},
   "source": [
    "This is a Markdown Cell. \n",
    "\n",
    "### 4.3 Report R^2, MAE, RMSE\n",
    "Evaluate the model using R^2, MAE, and RMSE.\n",
    "\n",
    "First:\n",
    "\n",
    "- Coefficient of Determination (R^2) - This tells you how well the model explains the variation in the target variable. A value close to 1 means the model fits the data well; a value close to 0 means the model doesn’t explain the variation well.\n",
    "\n",
    "\n",
    "Example code:\n",
    "  \n",
    "r2 = r2_score(y_test, y_pred)\n",
    "\n",
    "print(f'R²: {r2:.2f}')\n",
    "\n"
   ]
  },
  {
   "cell_type": "code",
   "execution_count": null,
   "metadata": {},
   "outputs": [],
   "source": [
    "\n",
    "# This is a Python cell. \n",
    "# Put your comments and code here.\n",
    "# "
   ]
  },
  {
   "cell_type": "markdown",
   "id": "351f529b",
   "metadata": {},
   "source": [
    "\n",
    "This is a Markdown Cell\n",
    "\n",
    "Second:\n",
    "\n",
    "- Mean Absolute Error (MAE) - This is the average of the absolute differences between the predicted values and the actual values. A smaller value means the model’s predictions are closer to the actual values.\n",
    "\n",
    "\n",
    "Example code:\n",
    "\n",
    "mae = mean_absolute_error(y_test, y_pred)\n",
    "\n",
    "print(f'MAE: {mae:.2f}')\n",
    "\n",
    "\n"
   ]
  },
  {
   "cell_type": "code",
   "execution_count": null,
   "id": "82df3db0",
   "metadata": {},
   "outputs": [],
   "source": [
    "# This is a Python cell. \n",
    "# Put your comments and code here.\n",
    "# \n"
   ]
  },
  {
   "cell_type": "markdown",
   "id": "04cf1fd0",
   "metadata": {},
   "source": [
    "\n",
    "This is a Markdown Cell\n",
    "\n",
    "Third:\n",
    "\n",
    "- Root Mean Squared Error (RMSE) - This is the square root of the average of the squared differences between the predicted values and the actual values. It gives a sense of how far the predictions are from the actual values, with larger errors having more impact.\n",
    "\n",
    "Example code:\n",
    "\n",
    "rmse = root_mean_squared_error(y_test, y_pred)\n",
    "\n",
    "print(f'RMSE: {rmse:.2f}')\n"
   ]
  },
  {
   "cell_type": "code",
   "execution_count": null,
   "id": "eda3368a",
   "metadata": {},
   "outputs": [],
   "source": [
    "# This is a Python cell. \n",
    "# Put your comments and code here.\n",
    "# \n"
   ]
  }
 ],
 "metadata": {
  "kernelspec": {
   "display_name": ".venv",
   "language": "python",
   "name": "python3"
  },
  "language_info": {
   "codemirror_mode": {
    "name": "ipython",
    "version": 3
   },
   "file_extension": ".py",
   "mimetype": "text/x-python",
   "name": "python",
   "nbconvert_exporter": "python",
   "pygments_lexer": "ipython3",
   "version": "3.13.1"
  }
 },
 "nbformat": 4,
 "nbformat_minor": 5
}
