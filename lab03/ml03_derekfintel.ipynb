{
 "cells": [
  {
   "cell_type": "markdown",
   "metadata": {},
   "source": [
    "# Titanic Data Analysis\n",
    "**Author:** Derek Fintel\n",
    "\n",
    "**Date:** March, 20th, 2025 \n",
    "\n",
    "**Objective:** Predict the median house price in California using available housing features.\n"
   ]
  },
  {
   "cell_type": "markdown",
   "metadata": {},
   "source": [
    "## Introduction\n",
    "In this project we utilize a trusted Titanic dataset to conduct various analyses, exercise functions, and provide meaningful predicitions of target data. \n",
    "\n",
    "This project is organized into the following Sections:\n",
    "- Section 0: Imports\n",
    "- Section 1: Load and Inspect the Data\n",
    "- Section 2: Data Exploration and Preparation\n",
    "- Section 3: Feature Selection and Justification\n",
    "- Section 4: Splitting"
   ]
  },
  {
   "cell_type": "markdown",
   "metadata": {},
   "source": [
    "## Imports  \n",
    "Below are our modules used."
   ]
  },
  {
   "cell_type": "code",
   "execution_count": 36,
   "metadata": {},
   "outputs": [],
   "source": [
    "\n",
    "# Import pandas for data manipulation and analysis. \n",
    "import pandas as pd\n",
    "\n",
    "# Import pandas for data manipulation and analysis.\n",
    "import numpy as np\n",
    "\n",
    "# Import matplotlib for creating static visualizations\n",
    "import matplotlib.pyplot as plt\n",
    "\n",
    "# Import seaborn for statistical data visualization (built on matplotlib)\n",
    "import seaborn as sns\n",
    "\n",
    "# Import the California housing dataset from sklearn\n",
    "from sklearn.datasets import fetch_california_housing\n",
    "\n",
    "# Import train_test_split for splitting data into training and test sets\n",
    "from sklearn.model_selection import train_test_split\n",
    "\n",
    "# Import LinearRegression for building a linear regression model\n",
    "from sklearn.linear_model import LinearRegression\n",
    "\n",
    "# Import performance metrics for model evaluation\n",
    "from sklearn.metrics import root_mean_squared_error, mean_absolute_error, r2_score\n",
    "\n",
    "# Import Pandas Plotting and Scatter Matrix\n",
    "from pandas.plotting import scatter_matrix\n",
    "\n",
    "# Import Stratified Shuffle Split\n",
    "from sklearn.model_selection import StratifiedShuffleSplit\n",
    "\n"
   ]
  },
  {
   "cell_type": "markdown",
   "metadata": {},
   "source": [
    "## Section 1. Load and Inspect the Data\n",
    "\n",
    "### 1.1 Load the dataset and display its info\n",
    "- We load the Titanic dataset directly from `seaborn`.\n",
    "- We display summary information of the dataset using the info() method."
   ]
  },
  {
   "cell_type": "code",
   "execution_count": 37,
   "id": "4621308e",
   "metadata": {},
   "outputs": [],
   "source": [
    "# We Load the 'titantic' dataset via sns.load_dataset\n",
    "titanic = sns.load_dataset('titanic')"
   ]
  },
  {
   "cell_type": "markdown",
   "metadata": {},
   "source": [
    "## Section 2. Data Exploration and Preparation"
   ]
  },
  {
   "cell_type": "markdown",
   "id": "1bc9e869",
   "metadata": {},
   "source": [
    "### 2.1 Handle Missing Values and Clean Data"
   ]
  },
  {
   "cell_type": "code",
   "execution_count": 38,
   "metadata": {},
   "outputs": [
    {
     "name": "stderr",
     "output_type": "stream",
     "text": [
      "C:\\Users\\derek\\AppData\\Local\\Temp\\ipykernel_16216\\3366738051.py:2: FutureWarning: A value is trying to be set on a copy of a DataFrame or Series through chained assignment using an inplace method.\n",
      "The behavior will change in pandas 3.0. This inplace method will never work because the intermediate object on which we are setting values always behaves as a copy.\n",
      "\n",
      "For example, when doing 'df[col].method(value, inplace=True)', try using 'df.method({col: value}, inplace=True)' or df[col] = df[col].method(value) instead, to perform the operation inplace on the original object.\n",
      "\n",
      "\n",
      "  titanic['age'].fillna(titanic['age'].median(), inplace=True)\n",
      "C:\\Users\\derek\\AppData\\Local\\Temp\\ipykernel_16216\\3366738051.py:5: FutureWarning: A value is trying to be set on a copy of a DataFrame or Series through chained assignment using an inplace method.\n",
      "The behavior will change in pandas 3.0. This inplace method will never work because the intermediate object on which we are setting values always behaves as a copy.\n",
      "\n",
      "For example, when doing 'df[col].method(value, inplace=True)', try using 'df.method({col: value}, inplace=True)' or df[col] = df[col].method(value) instead, to perform the operation inplace on the original object.\n",
      "\n",
      "\n",
      "  titanic['embark_town'].fillna(titanic['embark_town'].mode()[0], inplace=True)\n"
     ]
    }
   ],
   "source": [
    "#Impute missing values for age using the median:\n",
    "titanic['age'].fillna(titanic['age'].median(), inplace=True)\n",
    "\n",
    "#Fill in missing values for embark_town using the mode:\n",
    "titanic['embark_town'].fillna(titanic['embark_town'].mode()[0], inplace=True)\n"
   ]
  },
  {
   "cell_type": "markdown",
   "id": "023de6ae",
   "metadata": {},
   "source": [
    "### 2.2 Feature Engineering\n",
    "Create new features:\n",
    "\n",
    "Add family_size - number of family members on board\n",
    "Convert categorical \"sex\" to numeric\n",
    "Convert categorical \"embarked\" to numeric\n",
    "Binary feature - convert \"alone\" to numeric"
   ]
  },
  {
   "cell_type": "code",
   "execution_count": 39,
   "id": "2956ab62",
   "metadata": {},
   "outputs": [],
   "source": [
    "# Create new features\n",
    "titanic['family_size'] = titanic['sibsp'] + titanic['parch'] + 1\n",
    "titanic['sex'] = titanic['sex'].map({'male': 0, 'female': 1})\n",
    "titanic['embarked'] = titanic['embarked'].map({'C': 0, 'Q': 1, 'S': 2})\n",
    "titanic['alone'] = titanic['alone'].astype(int)"
   ]
  },
  {
   "cell_type": "markdown",
   "metadata": {},
   "source": [
    "## Section 3. Feature Selection and Justification\n",
    "### 3.1 Choose features and target\n",
    "Select two or more input features (numerical for regression, numerical and/or categorical for classification)\n",
    "Use survived as the target. \n",
    "We will do three input cases like the example. \n",
    "\n",
    "-First:\n",
    "input features: alone\n",
    "target: survived\n",
    "\n",
    "-Second:\n",
    "input features - age (or another variable of your choice)\n",
    "target: survived\n",
    "\n",
    "-Third:\n",
    "input features -  age and family_size (or another combination of your choice)\n",
    "target: survived\n"
   ]
  },
  {
   "cell_type": "markdown",
   "id": "ddda1871",
   "metadata": {},
   "source": [
    "### 3.2 Define X (features) and y (target)\n",
    "Assign input features to X a pandas DataFrame with 1 or more input features\n",
    "Assign target variable to y (as applicable) - a pandas Series with a single target feature\n",
    "Again - use comments to run a single case at a time\n",
    "The follow starts with only the statements needed for case 1. \n",
    "Double brackets [[ ]]]  makes a 2D DataFrame\n",
    "Single brackets [ ]  make a 1D Series\n",
    " \n",
    "\n",
    "# Case 1: alone only \n",
    "X = titanic[['alone']]\n",
    "y = titanic['survived']\n",
    "\n",
    "# Case 2: age only (or your choice)\n",
    "# X = titanic[['age']]\n",
    "# y = titanic['survived']\n",
    "\n",
    "# Case 3: age + family_size (or your choice)\n",
    "# X = titanic[['age', 'family_size']]\n",
    "# y = titanic['survived']"
   ]
  },
  {
   "cell_type": "markdown",
   "id": "416ee629",
   "metadata": {},
   "source": [
    "### Reflection of Section 3:\n",
    "\n",
    "1) Why are these features selected?\n",
    "\n",
    "2) Are there features that are likely to be highly predictive of survival?"
   ]
  },
  {
   "cell_type": "markdown",
   "metadata": {},
   "source": [
    "## Section 4. Train a Classification Model (Decision Tree)\n",
    "\n",
    "### 4.1 Split the Data\n",
    "Split the data into training and test sets. Use StratifiedShuffleSplit to ensure even class distribution."
   ]
  },
  {
   "cell_type": "code",
   "execution_count": 40,
   "id": "e1b27c45",
   "metadata": {},
   "outputs": [
    {
     "ename": "NameError",
     "evalue": "name 'X' is not defined",
     "output_type": "error",
     "traceback": [
      "\u001b[31m---------------------------------------------------------------------------\u001b[39m",
      "\u001b[31mNameError\u001b[39m                                 Traceback (most recent call last)",
      "\u001b[36mCell\u001b[39m\u001b[36m \u001b[39m\u001b[32mIn[40]\u001b[39m\u001b[32m, line 5\u001b[39m\n\u001b[32m      1\u001b[39m \u001b[38;5;28;01mfrom\u001b[39;00m\u001b[38;5;250m \u001b[39m\u001b[34;01msklearn\u001b[39;00m\u001b[34;01m.\u001b[39;00m\u001b[34;01mmodel_selection\u001b[39;00m\u001b[38;5;250m \u001b[39m\u001b[38;5;28;01mimport\u001b[39;00m StratifiedShuffleSplit\n\u001b[32m      3\u001b[39m splitter = StratifiedShuffleSplit(n_splits=\u001b[32m1\u001b[39m, test_size=\u001b[32m0.2\u001b[39m, random_state=\u001b[32m123\u001b[39m)\n\u001b[32m----> \u001b[39m\u001b[32m5\u001b[39m \u001b[38;5;28;01mfor\u001b[39;00m train_indices, test_indices \u001b[38;5;129;01min\u001b[39;00m splitter.split(\u001b[43mX\u001b[49m, y):\n\u001b[32m      6\u001b[39m     X_train = X.iloc[train_indices]\n\u001b[32m      7\u001b[39m     X_test = X.iloc[test_indices]\n",
      "\u001b[31mNameError\u001b[39m: name 'X' is not defined"
     ]
    }
   ],
   "source": [
    "from sklearn.model_selection import StratifiedShuffleSplit\n",
    "\n",
    "splitter = StratifiedShuffleSplit(n_splits=1, test_size=0.2, random_state=123)\n",
    "\n",
    "for train_indices, test_indices in splitter.split(X, y):\n",
    "    X_train = X.iloc[train_indices]\n",
    "    X_test = X.iloc[test_indices]\n",
    "    y_train = y.iloc[train_indices]\n",
    "    y_test = y.iloc[test_indices]\n",
    "\n",
    "print('Train size: ', len(X_train), 'Test size: ', len(X_test))\n"
   ]
  },
  {
   "cell_type": "markdown",
   "id": "ffca86eb",
   "metadata": {},
   "source": [
    "### 4.2 Create and Train Model (Decision Tree)\n",
    "Create and train a decision tree model with no random initializer argument."
   ]
  },
  {
   "cell_type": "code",
   "execution_count": null,
   "id": "23199b9c",
   "metadata": {},
   "outputs": [
    {
     "name": "stdout",
     "output_type": "stream",
     "text": [
      "Train size: 712\n",
      "Test size: 179\n"
     ]
    }
   ],
   "source": [
    "from sklearn.tree import DecisionTreeClassifier\n",
    "from sklearn.metrics import classification_report, confusion_matrix\n",
    "\n",
    "tree_model = DecisionTreeClassifier()\n",
    "tree_model.fit(X_train, y_train)"
   ]
  },
  {
   "cell_type": "markdown",
   "id": "9bcb858a",
   "metadata": {},
   "source": [
    "### 4.3 Predict and Evaluate Model Performance\n",
    "Evaluate model performance on training data"
   ]
  },
  {
   "cell_type": "code",
   "execution_count": null,
   "id": "0e10851b",
   "metadata": {},
   "outputs": [],
   "source": [
    "# Predict and evaluate training data (X train)\n",
    "y_pred = tree_model.predict(X_train)  \n",
    "print(\"Results for Decision Tree on training data:\")  \n",
    "print(classification_report(y_train, y_pred))  "
   ]
  },
  {
   "cell_type": "code",
   "execution_count": null,
   "id": "08c899ce",
   "metadata": {},
   "outputs": [],
   "source": [
    "# Predict and evaluate test data\n",
    "y_test_pred = tree_model.predict(X_test)\n",
    "print(\"Results for Decision Tree on test data:\")\n",
    "print(classification_report(y_test, y_test_pred))"
   ]
  },
  {
   "cell_type": "markdown",
   "id": "7c418c69",
   "metadata": {},
   "source": [
    "### 4.4 Report Confusion Matrix (as a heatmap)\n",
    "Plot a confusion matrix:"
   ]
  },
  {
   "cell_type": "code",
   "execution_count": null,
   "id": "2f85ffe8",
   "metadata": {},
   "outputs": [],
   "source": [
    "from sklearn.metrics import confusion_matrix\n",
    "import seaborn as sns\n",
    "\n",
    "cm = confusion_matrix(y_test, y_test_pred)\n",
    "sns.heatmap(cm, annot=True, cmap='Blues')\n",
    "plt.xlabel('Predicted')\n",
    "plt.ylabel('Actual')\n",
    "plt.show()  "
   ]
  },
  {
   "cell_type": "markdown",
   "id": "f1b84ee6",
   "metadata": {},
   "source": [
    "### 4.5 Report Decision Tree Plot\n",
    "Plot the decision tree model. We give the plotter the names of the features and the names of the categories for the target. Save the image so we can use it in other places."
   ]
  },
  {
   "cell_type": "code",
   "execution_count": null,
   "id": "4e388e28",
   "metadata": {},
   "outputs": [],
   "source": [
    "from sklearn.tree import plot_tree\n",
    "import matplotlib.pyplot as plt\n",
    "\n",
    "fig = plt.figure(figsize=(25,10))\n",
    "plot_tree(tree_model, feature_names=X.columns, class_names=['Not Survived', 'Survived'], filled=True)\n",
    "plt.show()\n",
    "fig.savefig(\"decision_tree_titanic.png\")"
   ]
  },
  {
   "cell_type": "markdown",
   "id": "e013990b",
   "metadata": {},
   "source": [
    "### Repeat for All 3 Cases\n",
    "Try this for the 3 different cases: 1) using height as the only input  2) using weight as the only input and 3) using height and weight together as inputs. \n",
    "\n",
    "For each different case, redefine the input features in Section 3 (comment out the old case inputs X and target y and uncomment the new case inputs X and target y), then re-run Sections 4 and 5 for each case. Record your results in a Markdown table.\n",
    "\n"
   ]
  },
  {
   "cell_type": "markdown",
   "metadata": {},
   "source": [
    "### Reflection of Section 4:\n",
    "\n",
    "1) How well did the different cases perform?\n",
    "2) Are there any surprising results?\n",
    "3) Which inputs worked better? \n"
   ]
  },
  {
   "cell_type": "markdown",
   "id": "e7a4c087",
   "metadata": {},
   "source": [
    "### Section 5. Compare Alternative Models (SVC, NN)\n",
    "In a Support Vector Machine, the kernel function defines how the algorithm transforms data to find a hyperplane that separates the classes. If the data is not linearly separable, changing the kernel can help the model find a better decision boundary.\n",
    "\n",
    "SVC Kernel: Common Types\n",
    "\n",
    "RBF (Radial Basis Function) – Most commonly used; handles non-linear data well (default)\n",
    "Linear – Best for linearly separable data (straight line separation)\n",
    "Polynomial – Useful when the data follows a curved pattern\n",
    "Sigmoid – Similar to a neural network activation function; less common\n",
    "Commenting the options in and out in the code can be helpful. The analyst decides which to use based on their understanding of the results."
   ]
  },
  {
   "cell_type": "code",
   "execution_count": null,
   "id": "2d976cc1",
   "metadata": {},
   "outputs": [],
   "source": [
    "# RBF Kernel (default) - same as calling SVC()\n",
    "svc_model = SVC(kernel='rbf')\n",
    "svc_model.fit(X_train, y_train)\n",
    "\n",
    "# Linear Kernel\n",
    "svc_model = SVC(kernel='linear')\n",
    "svc_model.fit(X_train, y_train)\n",
    "\n",
    "# Polynomial Kernel (e.g., with degree=3)\n",
    "svc_model = SVC(kernel='poly', degree=3)\n",
    "svc_model.fit(X_train, y_train)\n",
    "\n",
    "# Sigmoid Kernel\n",
    "svc_model = SVC(kernel='sigmoid')\n",
    "svc_model.fit(X_train, y_train)"
   ]
  },
  {
   "cell_type": "markdown",
   "id": "ea9837b1",
   "metadata": {},
   "source": [
    "SVC Kernel: How to Choose\n",
    "\n",
    "Start with linear if you suspect the data is linearly separable.\n",
    "Use RBF if the data is complex or you aren’t sure.\n",
    "Try polynomial if the data seems to follow a curved boundary.\n",
    "Use sigmoid for experiments (rarely the best choice).\n",
    "SVC Kernel: Common Issues and Techniques\n",
    "\n",
    "If the model takes too long to train, reduce the degree for polynomial kernels.\n",
    "If support_vectors_ gives an error, the data may not be separable with the current kernel. Try switching to RBF or adjusting the C (regularization) value.\n",
    "If the model misclassifies many points, then increase/decrease gamma or C.\n",
    "Your process is valuable - record the work you do and the temporary results in your reflections and insights. To show your skills, show and tell us about your analysis process. Professional communication is key."
   ]
  },
  {
   "cell_type": "markdown",
   "id": "e0994481",
   "metadata": {},
   "source": [
    "### 5.1 Train and Evaluate Model (SVC)\n",
    "First, train an SVC model using the default kernel."
   ]
  },
  {
   "cell_type": "code",
   "execution_count": null,
   "id": "754b0a8d",
   "metadata": {},
   "outputs": [],
   "source": [
    "from sklearn.svm import SVC\n",
    "\n",
    "svc_model = SVC()\n",
    "svc_model.fit(X_train, y_train)"
   ]
  },
  {
   "cell_type": "markdown",
   "id": "467443b2",
   "metadata": {},
   "source": [
    "Predict and evaluate the SVC model:"
   ]
  },
  {
   "cell_type": "code",
   "execution_count": null,
   "id": "60062db9",
   "metadata": {},
   "outputs": [],
   "source": [
    "y_pred_svc = svc_model.predict(X_test)\n",
    "\n",
    "print(\"Results for SVC on test data:\")\n",
    "print(classification_report(y_test, y_pred_svc))"
   ]
  },
  {
   "cell_type": "markdown",
   "id": "04158fed",
   "metadata": {},
   "source": [
    "### Visualize Support Vectors\n",
    "Create a scatter plot to visualize the support vectors. This helps understand how the SVM model separates the data.\n",
    "Step-by-Step Process:\n",
    "\n",
    "1) Split the data into two groups:\n",
    "\n",
    "Survived – Passengers who survived the Titanic sinking (value = 1).\n",
    "Not Survived – Passengers who did not survive (value = 0).\n",
    "2) Create a scatter plot of these two groups using different colors and markers:\n",
    "\n",
    "Yellow squares ('s') for survived passengers\n",
    "Cyan triangles ('^') for non-survived passengers\n",
    "3) Overlay the support vectors on top of the plot:\n",
    "\n",
    "Black pluses ('+') will represent the support vectors.\n",
    "Since the support vectors are plotted last, they appear on top of the data points and are not obscured."
   ]
  },
  {
   "cell_type": "code",
   "execution_count": null,
   "id": "a7da2fdb",
   "metadata": {},
   "outputs": [],
   "source": [
    "import matplotlib.pyplot as plt\n",
    "\n",
    "# Create data for charting - input target yes and input target no\n",
    "survived_alone = X_test.loc[y_test == 1, 'alone']\n",
    "not_survived_alone = X_test.loc[y_test == 0, 'alone']\n",
    "\n",
    "# Create scatter plot for survived and not survived\n",
    "plt.figure(figsize=(8, 6))\n",
    "plt.scatter(survived_alone, y_test.loc[y_test == 1], c='yellow', marker='s', label='Survived')\n",
    "plt.scatter(not_survived_alone, y_test.loc[y_test == 0], c='cyan', marker='^', label='Not Survived')\n",
    "\n",
    "# Add support vectors (if available)\n",
    "if hasattr(svc_model, 'support_vectors_'):\n",
    "    support_x = svc_model.support_vectors_[:, 0]  # First feature (alone)\n",
    "    support_y = svc_model.support_vectors_[:, 1] if svc_model.support_vectors_.shape[1] > 1 else None\n",
    "    \n",
    "    # Plot support vectors\n",
    "    if support_y is not None:\n",
    "        plt.scatter(support_x, support_y, c='black', marker='+', label='Support Vectors')\n",
    "    else:\n",
    "        plt.scatter(support_x, [0] * len(support_x), c='black', marker='+', label='Support Vectors')\n",
    "\n",
    "# Add labels and legend\n",
    "plt.xlabel('Alone')\n",
    "plt.ylabel('Survived')\n",
    "plt.legend()\n",
    "plt.title('Support Vectors (SVC)')\n",
    "plt.show()"
   ]
  },
  {
   "cell_type": "markdown",
   "id": "674a89b1",
   "metadata": {},
   "source": [
    "### 5.2 Train and Evaluate Model (NN MLP)\n",
    "Now we'll use the NN (Multi Level Perceptron ) model. Again, we will give the neural net as much information as possible and understand that it could overfit on the extra data.\n",
    "\n",
    "We have some hyper parameters that we can adjust. For the other models we just let them run with their defaults. Here we are going to use 3 hidden layers and change up the solver to one that is more likely to give good results for a small data set.\n",
    "\n",
    "Train a neural network model:"
   ]
  },
  {
   "cell_type": "code",
   "execution_count": null,
   "id": "4006af74",
   "metadata": {},
   "outputs": [],
   "source": [
    "from sklearn.neural_network import MLPClassifier\n",
    "\n",
    "\n",
    "nn_model = MLPClassifier(hidden_layer_sizes=(50, 25, 10), solver='lbfgs')\n",
    "nn_model.fit(X_train, y_train)"
   ]
  },
  {
   "cell_type": "code",
   "execution_count": null,
   "id": "f2fb04b6",
   "metadata": {},
   "outputs": [],
   "source": [
    "#Predict and evaluate Neural Network model:\n",
    "\n",
    "y_pred_nn = nn_model.predict(X_test)\n",
    "\n",
    "print(\"Results for Neural Network on test data:\")\n",
    "print(classification_report(y_test, y_pred_nn))"
   ]
  },
  {
   "cell_type": "code",
   "execution_count": null,
   "id": "c5ac538e",
   "metadata": {},
   "outputs": [],
   "source": [
    "#Plot confusion matrix:\n",
    "\n",
    "cm_nn = confusion_matrix(y_test, y_pred_nn)\n",
    "sns.heatmap(cm_nn, annot=True, cmap='Blues')\n",
    "plt.xlabel('Predicted')\n",
    "plt.ylabel('Actual')\n",
    "plt.show()"
   ]
  },
  {
   "cell_type": "markdown",
   "id": "f198f274",
   "metadata": {},
   "source": [
    "### Reflection 5:\n",
    "How well did each model perform?\n",
    "Are there any surprising results?\n",
    "Why might one model outperform the others?"
   ]
  },
  {
   "cell_type": "markdown",
   "id": "000fca7f",
   "metadata": {},
   "source": [
    "### Section 6. Final Thoughts & Insights\n",
    "#### 6.1 Summarize Findings\n",
    "\n",
    "1) What indicators are strong predictors of gender?\n",
    "2) Decision Tree performed well but overfit slightly on training data.\n",
    "3) Neural Network showed moderate improvement but introduced complexity.\n",
    "\n",
    "#### 6.2 Discuss Challenges Faced\n",
    "1) Small sample size could limit generalizability.\n",
    "2) Missing values (if any) could bias the model.\n",
    "\n",
    "#### 6.3 Next Steps\n",
    "1) Test more features (e.g., BMI class).\n",
    "2) Try hyperparameter tuning for better results."
   ]
  }
 ],
 "metadata": {
  "kernelspec": {
   "display_name": ".venv",
   "language": "python",
   "name": "python3"
  },
  "language_info": {
   "codemirror_mode": {
    "name": "ipython",
    "version": 3
   },
   "file_extension": ".py",
   "mimetype": "text/x-python",
   "name": "python",
   "nbconvert_exporter": "python",
   "pygments_lexer": "ipython3",
   "version": "3.13.1"
  }
 },
 "nbformat": 4,
 "nbformat_minor": 5
}
